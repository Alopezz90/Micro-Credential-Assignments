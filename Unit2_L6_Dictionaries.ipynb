{
  "nbformat": 4,
  "nbformat_minor": 0,
  "metadata": {
    "colab": {
      "name": "Unit2_L6_Dictionaries.ipynb",
      "provenance": [],
      "collapsed_sections": [],
      "authorship_tag": "ABX9TyMEM2X9qryXQEvcwzBDBVRM",
      "include_colab_link": true
    },
    "kernelspec": {
      "name": "python3",
      "display_name": "Python 3"
    }
  },
  "cells": [
    {
      "cell_type": "markdown",
      "metadata": {
        "id": "view-in-github",
        "colab_type": "text"
      },
      "source": [
        "<a href=\"https://colab.research.google.com/github/Alopezz90/Micro-Credential-Assignments/blob/Assignment-2/Unit2_L6_Dictionaries.ipynb\" target=\"_parent\"><img src=\"https://colab.research.google.com/assets/colab-badge.svg\" alt=\"Open In Colab\"/></a>"
      ]
    },
    {
      "cell_type": "markdown",
      "metadata": {
        "id": "1NwWSr2_i4TM"
      },
      "source": [
        "1. Create a simple dictionary that stores 2 variables, for example: first and last name.\r\n",
        "2. Print out those variables stored in your previous dictionary. "
      ]
    },
    {
      "cell_type": "code",
      "metadata": {
        "colab": {
          "base_uri": "https://localhost:8080/"
        },
        "id": "Lv-A-iEGizzk",
        "outputId": "93f70b39-d2f7-4fc4-ac06-9f4952e1aae9"
      },
      "source": [
        "simpledict = {\r\n",
        "  \"first_name\": \"Amanda\",\r\n",
        "  \"last_name\": \"Lopez\",\r\n",
        "}\r\n",
        "print(simpledict)"
      ],
      "execution_count": 6,
      "outputs": [
        {
          "output_type": "stream",
          "text": [
            "{'first_name': 'Amanda', 'last_name': 'Lopez'}\n"
          ],
          "name": "stdout"
        }
      ]
    },
    {
      "cell_type": "markdown",
      "metadata": {
        "id": "mrbHcNZkj1oy"
      },
      "source": [
        "3. Add a message to those variables on printing: for example: “Hello, firstname lastname!”"
      ]
    },
    {
      "cell_type": "code",
      "metadata": {
        "colab": {
          "base_uri": "https://localhost:8080/"
        },
        "id": "Ig3khhxWjvEe",
        "outputId": "0c7b08ca-073b-4158-c665-86300b872c01"
      },
      "source": [
        "simpledict = {\r\n",
        "  \"first_name\": \"Amanda\",\r\n",
        "  \"last_name\": \"Lopez\",\r\n",
        "}\r\n",
        "print(\"Hello there, \" + simpledict[\"first_name\"] + \" \" + simpledict[\"last_name\"])"
      ],
      "execution_count": 7,
      "outputs": [
        {
          "output_type": "stream",
          "text": [
            "Hello there, Amanda Lopez\n"
          ],
          "name": "stdout"
        }
      ]
    },
    {
      "cell_type": "markdown",
      "metadata": {
        "id": "M-gI3wlIjpAY"
      },
      "source": [
        "4. Create a dictionary that holds 2 key: value pairs:\r\n",
        "Look through your dictionary and print each pair,\r\n"
      ]
    },
    {
      "cell_type": "code",
      "metadata": {
        "colab": {
          "base_uri": "https://localhost:8080/"
        },
        "id": "eV9zHXX2i9DI",
        "outputId": "cb2eb94f-b7af-49ad-cefe-56f25e5f3e2f"
      },
      "source": [
        "dict2 = {\"largest_planet\": \"Jupiter\",\r\n",
        "         \"smallest_planet\": \"Mercury\"\r\n",
        "}\r\n",
        "print(dict2[\"largest_planet\"])\r\n",
        "print(dict2[\"smallest_planet\"])"
      ],
      "execution_count": 1,
      "outputs": [
        {
          "output_type": "stream",
          "text": [
            "Jupiter\n",
            "Mercury\n"
          ],
          "name": "stdout"
        }
      ]
    },
    {
      "cell_type": "markdown",
      "metadata": {
        "id": "v01DzsAhlwyK"
      },
      "source": [
        "5. Create a nested dictionary containing three dictionaries – these dictionaries could be anything (favorite pets, travel locations, etc.)\r\n",
        "Loop through the dictionaries and print a message for each.\r\n"
      ]
    },
    {
      "cell_type": "code",
      "metadata": {
        "colab": {
          "base_uri": "https://localhost:8080/"
        },
        "id": "La1WyCHhl0IT",
        "outputId": "039128f8-90dc-4edd-ad0f-bc431c164899"
      },
      "source": [
        "nested_dict = { \"dict1\": {\"first_name\": \"Amanda\"},\r\n",
        "                \"dict2\": {\"favorite_pet\": \"dogs\"},\r\n",
        "                \"dict3\": {\"favorite_place\": \"Puerto Rico\"}\r\n",
        "}\r\n",
        "\r\n",
        "def get_all_values(nested_dict):\r\n",
        "    for key, value in nested_dict.items():\r\n",
        "        if type(value) is dict:\r\n",
        "            get_all_values(value)\r\n",
        "        else:\r\n",
        "            print(\"My \" + key, \"is \", value)\r\n",
        "nested_dict = {\"dict1\": {\"first_name\": \"Amanda\"},\"dict2\": {\"favorite_pet\": \"dogs\"}, \"dict3\": {\"favorite_place\": \"Puerto Rico\"}}\r\n",
        "get_all_values(nested_dict)\r\n"
      ],
      "execution_count": 14,
      "outputs": [
        {
          "output_type": "stream",
          "text": [
            "My first_name is  Amanda\n",
            "My favorite_pet is  dogs\n",
            "My favorite_place is  Puerto Rico\n"
          ],
          "name": "stdout"
        }
      ]
    }
  ]
}