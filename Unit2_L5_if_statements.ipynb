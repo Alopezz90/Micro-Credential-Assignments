{
  "nbformat": 4,
  "nbformat_minor": 0,
  "metadata": {
    "colab": {
      "name": "Unit2_L5_if statements.ipynb",
      "provenance": [],
      "collapsed_sections": [],
      "authorship_tag": "ABX9TyOu+YsKBDylCE9uiLPW31N6",
      "include_colab_link": true
    },
    "kernelspec": {
      "name": "python3",
      "display_name": "Python 3"
    }
  },
  "cells": [
    {
      "cell_type": "markdown",
      "metadata": {
        "id": "view-in-github",
        "colab_type": "text"
      },
      "source": [
        "<a href=\"https://colab.research.google.com/github/Alopezz90/Micro-Credential-Assignments/blob/Assignment-2/Unit2_L5_if_statements.ipynb\" target=\"_parent\"><img src=\"https://colab.research.google.com/assets/colab-badge.svg\" alt=\"Open In Colab\"/></a>"
      ]
    },
    {
      "cell_type": "markdown",
      "metadata": {
        "id": "sU8qCKOejnOz"
      },
      "source": [
        "1. Make a list of 5 or more usernames, including an admin account.  Imagine you are writing code that will welcome people to your application on login. Loop through the list and print your greeting.\r\n",
        "If the admin account logs in, give them a special greeting.  They’re the admin, after all!\r\n",
        "Other users can get the generic greeting\r\n"
      ]
    },
    {
      "cell_type": "code",
      "metadata": {
        "colab": {
          "base_uri": "https://localhost:8080/"
        },
        "id": "6GrDOZ6WcA4b",
        "outputId": "17df1fb7-017d-4bcc-af81-6de0785a49ba"
      },
      "source": [
        "#1\r\n",
        "username = {\"Stacy\": \"admin\",\r\n",
        "           \"Lilly\": \"regular\",\r\n",
        "           \"Mercy\": \"admin\",\r\n",
        "           \"Nancy\": \"admin\",\r\n",
        "           \"Julene\": \"regular\"}\r\n",
        "         \r\n",
        "\r\n",
        "for keys, values in username.items():\r\n",
        "  if values == \"admin\":    \r\n",
        "   print(\"Thank you for loggin in\")\r\n",
        "  else:\r\n",
        "    print(\"Welcome! Please sign in\")"
      ],
      "execution_count": null,
      "outputs": [
        {
          "output_type": "stream",
          "text": [
            "Thank you for loggin in\n",
            "Welcome! Please sign in\n",
            "Thank you for loggin in\n",
            "Thank you for loggin in\n",
            "Welcome! Please sign in\n"
          ],
          "name": "stdout"
        }
      ]
    },
    {
      "cell_type": "markdown",
      "metadata": {
        "id": "H-4Awl2AjvJ9"
      },
      "source": [
        "2. Store numbers 1-10 in a list.\r\n",
        "Loop through the list.\r\n",
        "Use an if-elif-else chain inside your loop to print the ordinal ending for each number – for example – 1st, 2nd, 3rd … etc.\r\n"
      ]
    },
    {
      "cell_type": "code",
      "metadata": {
        "colab": {
          "base_uri": "https://localhost:8080/"
        },
        "id": "NO7bdDhZiSOx",
        "outputId": "e2220e06-48ae-42f5-a52c-16010c7a3d1e"
      },
      "source": [
        "numbers = ['1', '2', '3', '4', '5', '6', '7', '8', '9']\r\n",
        "for number in numbers:\r\n",
        "    if '1' in number:\r\n",
        "        print( number +\"st.\")\r\n",
        "    elif '2' in number:\r\n",
        "        print(number + \"nd.\")\r\n",
        "    elif '3' in number:\r\n",
        "        print( number + \"rd.\")\r\n",
        "    else:\r\n",
        "        print(number +\"th.\")"
      ],
      "execution_count": 7,
      "outputs": [
        {
          "output_type": "stream",
          "text": [
            "1st.\n",
            "2nd.\n",
            "3rd.\n",
            "4th.\n",
            "5th.\n",
            "6th.\n",
            "7th.\n",
            "8th.\n",
            "9th.\n"
          ],
          "name": "stdout"
        }
      ]
    }
  ]
}