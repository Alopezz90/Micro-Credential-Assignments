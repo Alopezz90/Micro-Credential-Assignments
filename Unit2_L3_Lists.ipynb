{
  "nbformat": 4,
  "nbformat_minor": 0,
  "metadata": {
    "colab": {
      "name": "Unit2_L3_Lists.ipynb",
      "provenance": [],
      "collapsed_sections": [],
      "authorship_tag": "ABX9TyN9wJH3S8ot97t5M+AMW2XO",
      "include_colab_link": true
    },
    "kernelspec": {
      "name": "python3",
      "display_name": "Python 3"
    }
  },
  "cells": [
    {
      "cell_type": "markdown",
      "metadata": {
        "id": "view-in-github",
        "colab_type": "text"
      },
      "source": [
        "<a href=\"https://colab.research.google.com/github/Alopezz90/Micro-Credential-Assignments/blob/main/Unit2_L3_Lists.ipynb\" target=\"_parent\"><img src=\"https://colab.research.google.com/assets/colab-badge.svg\" alt=\"Open In Colab\"/></a>"
      ]
    },
    {
      "cell_type": "code",
      "metadata": {
        "colab": {
          "base_uri": "https://localhost:8080/"
        },
        "id": "tPobIDMAkqR7",
        "outputId": "30dba11c-47f4-4752-eac6-f8d8104aab23"
      },
      "source": [
        "#Create a list of 5 of your favorite tv shows.\r\n",
        "tvshows = [\"doctor who\", \"wentworth\", \"rick and morty\", \"game of thrones\", \"handmaids tale\"]\r\n",
        "print(tvshows)"
      ],
      "execution_count": 4,
      "outputs": [
        {
          "output_type": "stream",
          "text": [
            "['doctor who', 'wentworth', 'rick and morty', 'game of thrones', 'handmaids tale']\n"
          ],
          "name": "stdout"
        }
      ]
    },
    {
      "cell_type": "code",
      "metadata": {
        "colab": {
          "base_uri": "https://localhost:8080/"
        },
        "id": "ZUzbVniWl5Ox",
        "outputId": "6965e79c-c680-4749-bf47-2c404c8f5bf2"
      },
      "source": [
        "#Print the list in its original order.\r\n",
        "tvshows = [\"doctor who\", \"wentworth\", \"rick and morty\", \"game of thrones\", \"handmaids tale\"]\r\n",
        "tvshows.sort()\r\n",
        "print(tvshows)\r\n"
      ],
      "execution_count": 7,
      "outputs": [
        {
          "output_type": "stream",
          "text": [
            "['doctor who', 'game of thrones', 'handmaids tale', 'rick and morty', 'wentworth']\n"
          ],
          "name": "stdout"
        }
      ]
    },
    {
      "cell_type": "code",
      "metadata": {
        "colab": {
          "base_uri": "https://localhost:8080/"
        },
        "id": "cLuZhdRlmrKB",
        "outputId": "c4f75337-f4bc-4796-c882-ef3027642762"
      },
      "source": [
        "#Use the sorted() function to print the list in alphabetical order. How is sorted() different from sort()?\r\n",
        "tvshows = [\"doctor who\", \"wentworth\", \"rick and morty\", \"game of thrones\", \"handmaids tale\"]\r\n",
        "print(sorted(tvshows))"
      ],
      "execution_count": 13,
      "outputs": [
        {
          "output_type": "stream",
          "text": [
            "['doctor who', 'game of thrones', 'handmaids tale', 'rick and morty', 'wentworth']\n"
          ],
          "name": "stdout"
        }
      ]
    },
    {
      "cell_type": "code",
      "metadata": {
        "colab": {
          "base_uri": "https://localhost:8080/"
        },
        "id": "E9fGUPVAp9rx",
        "outputId": "dcafb0d0-e4d6-4fe0-f77a-fbc6b1bd42be"
      },
      "source": [
        "#Print out your original list.\r\n",
        "tvshows = [\"doctor who\", \"wentworth\", \"rick and morty\", \"game of thrones\", \"handmaids tale\"]\r\n",
        "print(tvshows)"
      ],
      "execution_count": 17,
      "outputs": [
        {
          "output_type": "stream",
          "text": [
            "['doctor who', 'wentworth', 'rick and morty', 'game of thrones', 'handmaids tale']\n"
          ],
          "name": "stdout"
        }
      ]
    },
    {
      "cell_type": "code",
      "metadata": {
        "colab": {
          "base_uri": "https://localhost:8080/"
        },
        "id": "LjpazCWEogEi",
        "outputId": "112e04d0-aa04-438d-d7f3-51cfde2b827c"
      },
      "source": [
        "#Used sorted() to print your list in reverse alphabetical order.\r\n",
        "tvshows = [\"doctor who\", \"wentworth\", \"rick and morty\", \"game of thrones\", \"handmaids tale\"]\r\n",
        "print(sorted(tvshows, reverse = True))"
      ],
      "execution_count": 14,
      "outputs": [
        {
          "output_type": "stream",
          "text": [
            "['wentworth', 'rick and morty', 'handmaids tale', 'game of thrones', 'doctor who']\n"
          ],
          "name": "stdout"
        }
      ]
    },
    {
      "cell_type": "code",
      "metadata": {
        "colab": {
          "base_uri": "https://localhost:8080/"
        },
        "id": "pZ-Hc1eXn9Xg",
        "outputId": "d9a41356-5627-4c61-827b-92d85b56668c"
      },
      "source": [
        "#Create a message indicating how many favorite TV shows you have – use the len() function.\r\n",
        "tvshows = [\"doctor who\", \"wentworth\", \"rick and morty\", \"game of thrones\", \"handmaids tale\"]\r\n",
        "print(\"The number of favortie Tv shows is :\", len(tvshows))"
      ],
      "execution_count": 16,
      "outputs": [
        {
          "output_type": "stream",
          "text": [
            "The number of favortie Tv shows is : 5\n"
          ],
          "name": "stdout"
        }
      ]
    }
  ]
}