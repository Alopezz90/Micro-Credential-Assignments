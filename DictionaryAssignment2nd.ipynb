{
  "nbformat": 4,
  "nbformat_minor": 0,
  "metadata": {
    "colab": {
      "name": "DictionaryAssignment.ipynb",
      "provenance": [],
      "collapsed_sections": [],
      "authorship_tag": "ABX9TyO88NgQjikwfkR/Vl9dM4oP",
      "include_colab_link": true
    },
    "kernelspec": {
      "name": "python3",
      "display_name": "Python 3"
    }
  },
  "cells": [
    {
      "cell_type": "markdown",
      "metadata": {
        "id": "view-in-github",
        "colab_type": "text"
      },
      "source": [
        "<a href=\"https://colab.research.google.com/github/Alopezz90/Micro-Credential-Assignments/blob/Assignment-2/DictionaryAssignment2nd.ipynb\" target=\"_parent\"><img src=\"https://colab.research.google.com/assets/colab-badge.svg\" alt=\"Open In Colab\"/></a>"
      ]
    },
    {
      "cell_type": "code",
      "metadata": {
        "colab": {
          "base_uri": "https://localhost:8080/"
        },
        "id": "Y-q7JVOrM3XE",
        "outputId": "55f51248-0b15-49c8-cd3b-2d66cb7ec390"
      },
      "source": [
        "#1\r\n",
        "keys = [\"Ten\", \"Twenty\", \"Thirty\"]\r\n",
        "values = [10, 20, 30]\r\n",
        "keys_dictionary = dict(zip(keys,values))\r\n",
        "print(keys_dictionary)"
      ],
      "execution_count": 3,
      "outputs": [
        {
          "output_type": "stream",
          "text": [
            "{'Ten': 10, 'Twenty': 20, 'Thirty': 30}\n"
          ],
          "name": "stdout"
        }
      ]
    },
    {
      "cell_type": "code",
      "metadata": {
        "colab": {
          "base_uri": "https://localhost:8080/"
        },
        "id": "325SD5hyPRKL",
        "outputId": "cc07aa43-f2f9-4bdb-c2ad-e07a6749ad49"
      },
      "source": [
        "#2\r\n",
        "dict1 = {'Ten': 10, 'Twenty': 20, 'Thirty': 30}\r\n",
        "dict2 = {'Thirty': 30, 'Fourty': 40, 'Fifty': 50}\r\n",
        "\r\n",
        "def merge(dict1, dict2):\r\n",
        "  return(dict2.update(dict1))\r\n",
        "print(dict1, dict2)"
      ],
      "execution_count": 40,
      "outputs": [
        {
          "output_type": "stream",
          "text": [
            "{'Ten': 10, 'Twenty': 20, 'Thirty': 30} {'Thirty': 30, 'Fourty': 40, 'Fifty': 50}\n"
          ],
          "name": "stdout"
        }
      ]
    },
    {
      "cell_type": "code",
      "metadata": {
        "colab": {
          "base_uri": "https://localhost:8080/"
        },
        "id": "ugV7b4M9QLNf",
        "outputId": "3add6edc-6795-4f25-d611-e04fa0b47c23"
      },
      "source": [
        "#3\r\n",
        "sampleDict = { \r\n",
        "   \"class\":{ \r\n",
        "      \"student\":{ \r\n",
        "         \"name\":\"Mike\",\r\n",
        "         \"marks\":{ \r\n",
        "            \"physics\":70,\r\n",
        "            \"history\":80\r\n",
        "         }\r\n",
        "      }\r\n",
        "   }\r\n",
        "}\r\n",
        "print(sampleDict['class']['student']['marks']['history'])"
      ],
      "execution_count": 41,
      "outputs": [
        {
          "output_type": "stream",
          "text": [
            "80\n"
          ],
          "name": "stdout"
        }
      ]
    },
    {
      "cell_type": "code",
      "metadata": {
        "colab": {
          "base_uri": "https://localhost:8080/"
        },
        "id": "y7oumqecQVka",
        "outputId": "6c3bf465-07d9-4970-c417-7ae12323c016"
      },
      "source": [
        "#4\r\n",
        "employees = ['Kelly', 'Emma', 'John']\r\n",
        "defaults = {\"designation\": 'Application Developer', \"salary\": 8000}\r\n",
        "resDict = dict.fromkeys(employees, defaults)\r\n",
        "print(resDict)\r\n",
        "print(resDict[\"Kelly\"])\r\n"
      ],
      "execution_count": 43,
      "outputs": [
        {
          "output_type": "stream",
          "text": [
            "{'Kelly': {'designation': 'Application Developer', 'salary': 8000}, 'Emma': {'designation': 'Application Developer', 'salary': 8000}, 'John': {'designation': 'Application Developer', 'salary': 8000}}\n",
            "{'designation': 'Application Developer', 'salary': 8000}\n"
          ],
          "name": "stdout"
        }
      ]
    },
    {
      "cell_type": "code",
      "metadata": {
        "colab": {
          "base_uri": "https://localhost:8080/"
        },
        "id": "UUzsrzPAVAcK",
        "outputId": "d863f6fb-f1d7-4358-eae7-0e468c1f2306"
      },
      "source": [
        "#5\r\n",
        "sampleDict = {\r\n",
        "  \"name\": \"Kelly\",\r\n",
        "  \"age\": 25, \r\n",
        "  \"salary\": 8000,\r\n",
        "  \"city\": \"New York\"\r\n",
        "}\r\n",
        "keys = [\"name\", \"salary\"]          #it is getting the keys for the sample dictionary from the list\r\n",
        "newDict = {k: sampleDict[k] for k in keys} #k for key, : gets the list data and connects it with the dictionary data\r\n",
        "print(newDict) "
      ],
      "execution_count": 8,
      "outputs": [
        {
          "output_type": "stream",
          "text": [
            "{'name': 'Kelly', 'salary': 8000}\n"
          ],
          "name": "stdout"
        }
      ]
    },
    {
      "cell_type": "code",
      "metadata": {
        "colab": {
          "base_uri": "https://localhost:8080/"
        },
        "id": "yh9x1GWWa3vV",
        "outputId": "7514341b-f934-4af7-b660-d49c2520c798"
      },
      "source": [
        "#6\r\n",
        "sampleDict = {\r\n",
        "  \"name\": \"Kelly\",\r\n",
        "  \"age\":25,\r\n",
        "  \"salary\": 8000,\r\n",
        "  \"city\": \"New york\"\r\n",
        "  \r\n",
        "}\r\n",
        "keys = [\"name\", \"salary\"]\r\n",
        "\r\n",
        "newDict = {}\r\n",
        "\r\n",
        "for k, v in sampleDict.items():\r\n",
        "  if k not in keys:\r\n",
        "    newDict[k]=v\r\n",
        "\r\n",
        "print(newDict)"
      ],
      "execution_count": 13,
      "outputs": [
        {
          "output_type": "stream",
          "text": [
            "{'age': 25, 'city': 'New york'}\n"
          ],
          "name": "stdout"
        }
      ]
    },
    {
      "cell_type": "code",
      "metadata": {
        "id": "XQZPdmfsh3re"
      },
      "source": [
        "#7\r\n",
        "SampleDict = {\"a\": 100, \"b\": 200, \"c\": 300}\r\n",
        "if 200 in sampleDict.values():\r\n",
        "  print(\"it does exist\")\r\n"
      ],
      "execution_count": 23,
      "outputs": []
    },
    {
      "cell_type": "code",
      "metadata": {
        "colab": {
          "base_uri": "https://localhost:8080/"
        },
        "id": "Tf2kEZvfkCn1",
        "outputId": "2d683f2b-7c44-44af-bea2-3644a6fa7291"
      },
      "source": [
        "#8\r\n",
        "sampleDicts = {\r\n",
        "    \"name\": \"Kelly\",\r\n",
        "    \"age\": \"25\",\r\n",
        "    \"salary\": \"8000\",\r\n",
        "    \"city\": \"New York\"\r\n",
        "}\r\n",
        "\r\n",
        "sampleDicts[\"location\"] = sampleDict.pop(\"city\")\r\n",
        "print(sampleDict)"
      ],
      "execution_count": 29,
      "outputs": [
        {
          "output_type": "stream",
          "text": [
            "{'name': 'Kelly', 'age': 25, 'salary': 8000}\n"
          ],
          "name": "stdout"
        }
      ]
    },
    {
      "cell_type": "code",
      "metadata": {
        "colab": {
          "base_uri": "https://localhost:8080/"
        },
        "id": "xnlQpdyarNoA",
        "outputId": "eed45243-50b2-4af4-8499-7993c0194b90"
      },
      "source": [
        "#9\r\n",
        "sampleDict = {\r\n",
        "  'Physics': 82,\r\n",
        "  'Math': 65,\r\n",
        "  'history': 75\r\n",
        "}\r\n",
        "sampleDict = {\r\n",
        "  'Physics': 82,\r\n",
        "  'Math': 65,\r\n",
        "  'history': 75\r\n",
        "}\r\n",
        "print(min(sampleDict, key=sampleDict.get))"
      ],
      "execution_count": 44,
      "outputs": [
        {
          "output_type": "stream",
          "text": [
            "Math\n"
          ],
          "name": "stdout"
        }
      ]
    },
    {
      "cell_type": "code",
      "metadata": {
        "colab": {
          "base_uri": "https://localhost:8080/"
        },
        "id": "G__0STIErdBn",
        "outputId": "23de54b8-4bbb-4a64-ad65-aa101959c3e0"
      },
      "source": [
        "#10\r\n",
        "sampleDict = {\r\n",
        "     'emp1': {'name': 'Jhon', 'salary': 7500},\r\n",
        "     'emp2': {'name': 'Emma', 'salary': 8000},\r\n",
        "     'emp3': {'name': 'Brad', 'salary': 6500}\r\n",
        "}\r\n",
        "sampleDict['emp3']['salary'] = 8500\r\n",
        "print(sampleDict)"
      ],
      "execution_count": 46,
      "outputs": [
        {
          "output_type": "stream",
          "text": [
            "{'emp1': {'name': 'Jhon', 'salary': 7500}, 'emp2': {'name': 'Emma', 'salary': 8000}, 'emp3': {'name': 'Brad', 'salary': 8500}}\n"
          ],
          "name": "stdout"
        }
      ]
    }
  ]
}